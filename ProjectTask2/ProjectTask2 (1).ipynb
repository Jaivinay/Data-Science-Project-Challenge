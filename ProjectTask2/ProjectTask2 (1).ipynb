{
 "cells": [
  {
   "cell_type": "code",
   "execution_count": 47,
   "id": "7252b1f5-b848-4768-b099-47edcc552b94",
   "metadata": {},
   "outputs": [],
   "source": [
    "import pandas as pd # importing the pandas library\n",
    "import matplotlib.pyplot as plt # importing matplotlib\n",
    "import datetime as dt # importing the date time librray\n",
    "import random # importing random library"
   ]
  },
  {
   "cell_type": "code",
   "execution_count": 48,
   "id": "619b5440-f705-46c8-81e6-5bfe0602e8ac",
   "metadata": {},
   "outputs": [],
   "source": [
    "data = pd.read_excel(r'E:\\DataScienceProject\\turbinepowerdata.xlsx',header=6) # Reading the dataset"
   ]
  },
  {
   "cell_type": "code",
   "execution_count": 4,
   "id": "d310d708-a71d-41e3-bd10-798586401070",
   "metadata": {},
   "outputs": [
    {
     "data": {
      "text/plain": [
       "Index(['time', 'power_turbine1', 'power_turbine2', 'power_turbine3'], dtype='object')"
      ]
     },
     "execution_count": 4,
     "metadata": {},
     "output_type": "execute_result"
    }
   ],
   "source": [
    "data.columns # to view column lables"
   ]
  },
  {
   "cell_type": "code",
   "execution_count": 5,
   "id": "e04ba7f2-3960-42f3-b135-b789c233791e",
   "metadata": {},
   "outputs": [
    {
     "data": {
      "text/plain": [
       "(26633, 4)"
      ]
     },
     "execution_count": 5,
     "metadata": {},
     "output_type": "execute_result"
    }
   ],
   "source": [
    "data.shape # Total rows and columns in the dataset"
   ]
  },
  {
   "cell_type": "code",
   "execution_count": 49,
   "id": "a83fba70-afea-4ad7-9826-c99b2cbc6787",
   "metadata": {
    "scrolled": true
   },
   "outputs": [
    {
     "data": {
      "text/plain": [
       "<matplotlib.collections.PathCollection at 0x262a0fbd3d0>"
      ]
     },
     "execution_count": 49,
     "metadata": {},
     "output_type": "execute_result"
    },
    {
     "data": {
      "image/png": "[encoded data removed]",
      "text/plain": [
       "<Figure size 432x288 with 1 Axes>"
      ]
     },
     "metadata": {
      "needs_background": "light"
     },
     "output_type": "display_data"
    }
   ],
   "source": [
    "plt.scatter(data.time,data.power_turbine3) # For drawing the scatter plot (observing the data)"
   ]
  },
  {
   "cell_type": "code",
   "execution_count": null,
   "id": "cb9e0c63-ff79-4dca-b597-580f1e8b2ce1",
   "metadata": {},
   "outputs": [],
   "source": []
  },
  {
   "cell_type": "code",
   "execution_count": 46,
   "id": "c6ae1b18-559f-4f1b-b505-8fd3c027f17c",
   "metadata": {},
   "outputs": [
    {
     "data": {
      "text/html": [
       "<div>\n",
       "<style scoped>\n",
       "    .dataframe tbody tr th:only-of-type {\n",
       "        vertical-align: middle;\n",
       "    }\n",
       "\n",
       "    .dataframe tbody tr th {\n",
       "        vertical-align: top;\n",
       "    }\n",
       "\n",
       "    .dataframe thead th {\n",
       "        text-align: right;\n",
       "    }\n",
       "</style>\n",
       "<table border=\"1\" class=\"dataframe\">\n",
       "  <thead>\n",
       "    <tr style=\"text-align: right;\">\n",
       "      <th></th>\n",
       "      <th>power_turbine1</th>\n",
       "      <th>power_turbine2</th>\n",
       "      <th>power_turbine3</th>\n",
       "    </tr>\n",
       "  </thead>\n",
       "  <tbody>\n",
       "    <tr>\n",
       "      <th>count</th>\n",
       "      <td>26486.000000</td>\n",
       "      <td>26486.000000</td>\n",
       "      <td>26486.000000</td>\n",
       "    </tr>\n",
       "    <tr>\n",
       "      <th>mean</th>\n",
       "      <td>4980.811712</td>\n",
       "      <td>5014.259496</td>\n",
       "      <td>4979.054670</td>\n",
       "    </tr>\n",
       "    <tr>\n",
       "      <th>std</th>\n",
       "      <td>2901.441430</td>\n",
       "      <td>2899.472526</td>\n",
       "      <td>2896.970895</td>\n",
       "    </tr>\n",
       "    <tr>\n",
       "      <th>min</th>\n",
       "      <td>0.000000</td>\n",
       "      <td>0.000000</td>\n",
       "      <td>0.000000</td>\n",
       "    </tr>\n",
       "    <tr>\n",
       "      <th>25%</th>\n",
       "      <td>2471.000000</td>\n",
       "      <td>2493.000000</td>\n",
       "      <td>2448.000000</td>\n",
       "    </tr>\n",
       "    <tr>\n",
       "      <th>50%</th>\n",
       "      <td>4947.000000</td>\n",
       "      <td>5024.000000</td>\n",
       "      <td>4982.000000</td>\n",
       "    </tr>\n",
       "    <tr>\n",
       "      <th>75%</th>\n",
       "      <td>7514.750000</td>\n",
       "      <td>7550.750000</td>\n",
       "      <td>7478.000000</td>\n",
       "    </tr>\n",
       "    <tr>\n",
       "      <th>max</th>\n",
       "      <td>10000.000000</td>\n",
       "      <td>10000.000000</td>\n",
       "      <td>10000.000000</td>\n",
       "    </tr>\n",
       "  </tbody>\n",
       "</table>\n",
       "</div>"
      ],
      "text/plain": [
       "       power_turbine1  power_turbine2  power_turbine3\n",
       "count    26486.000000    26486.000000    26486.000000\n",
       "mean      4980.811712     5014.259496     4979.054670\n",
       "std       2901.441430     2899.472526     2896.970895\n",
       "min          0.000000        0.000000        0.000000\n",
       "25%       2471.000000     2493.000000     2448.000000\n",
       "50%       4947.000000     5024.000000     4982.000000\n",
       "75%       7514.750000     7550.750000     7478.000000\n",
       "max      10000.000000    10000.000000    10000.000000"
      ]
     },
     "execution_count": 46,
     "metadata": {},
     "output_type": "execute_result"
    }
   ],
   "source": [
    "data.describe() # Summary of Statistical information of the dataset"
   ]
  },
  {
   "cell_type": "code",
   "execution_count": 8,
   "id": "3392a2f5-8c37-4224-a759-ecf2e3292541",
   "metadata": {},
   "outputs": [
    {
     "name": "stdout",
     "output_type": "stream",
     "text": [
      "<class 'pandas.core.frame.DataFrame'>\n",
      "RangeIndex: 26633 entries, 0 to 26632\n",
      "Data columns (total 4 columns):\n",
      " #   Column          Non-Null Count  Dtype         \n",
      "---  ------          --------------  -----         \n",
      " 0   time            26603 non-null  datetime64[ns]\n",
      " 1   power_turbine1  26573 non-null  object        \n",
      " 2   power_turbine2  26577 non-null  float64       \n",
      " 3   power_turbine3  26633 non-null  int64         \n",
      "dtypes: datetime64[ns](1), float64(1), int64(1), object(1)\n",
      "memory usage: 832.4+ KB\n"
     ]
    }
   ],
   "source": [
    "data.info() # It returns entire description of the dataset"
   ]
  },
  {
   "cell_type": "code",
   "execution_count": 9,
   "id": "ed5865f6-73c7-4050-9452-bbbb944ac89a",
   "metadata": {},
   "outputs": [],
   "source": [
    "for i in range(len(data)): # For removing the string values in power_turbine1\n",
    "    if type(data['power_turbine1'][i])==str:\n",
    "        data.drop(i,inplace=True) # for dropping"
   ]
  },
  {
   "cell_type": "code",
   "execution_count": 10,
   "id": "49b5b939-3ec6-4990-b884-d3431d308ba4",
   "metadata": {},
   "outputs": [],
   "source": [
    "data['power_turbine1']=pd.to_numeric(data['power_turbine1']) # Typecasting"
   ]
  },
  {
   "cell_type": "code",
   "execution_count": 12,
   "id": "62c30f7d-25c4-452f-b4c6-4601d1128510",
   "metadata": {},
   "outputs": [
    {
     "data": {
      "text/html": [
       "<div>\n",
       "<style scoped>\n",
       "    .dataframe tbody tr th:only-of-type {\n",
       "        vertical-align: middle;\n",
       "    }\n",
       "\n",
       "    .dataframe tbody tr th {\n",
       "        vertical-align: top;\n",
       "    }\n",
       "\n",
       "    .dataframe thead th {\n",
       "        text-align: right;\n",
       "    }\n",
       "</style>\n",
       "<table border=\"1\" class=\"dataframe\">\n",
       "  <thead>\n",
       "    <tr style=\"text-align: right;\">\n",
       "      <th></th>\n",
       "      <th>power_turbine1</th>\n",
       "      <th>power_turbine2</th>\n",
       "      <th>power_turbine3</th>\n",
       "    </tr>\n",
       "  </thead>\n",
       "  <tbody>\n",
       "    <tr>\n",
       "      <th>count</th>\n",
       "      <td>26572.000000</td>\n",
       "      <td>26576.000000</td>\n",
       "      <td>26632.000000</td>\n",
       "    </tr>\n",
       "    <tr>\n",
       "      <th>mean</th>\n",
       "      <td>4980.373363</td>\n",
       "      <td>5014.282210</td>\n",
       "      <td>4979.279063</td>\n",
       "    </tr>\n",
       "    <tr>\n",
       "      <th>std</th>\n",
       "      <td>2901.860165</td>\n",
       "      <td>2898.829275</td>\n",
       "      <td>2896.431480</td>\n",
       "    </tr>\n",
       "    <tr>\n",
       "      <th>min</th>\n",
       "      <td>0.000000</td>\n",
       "      <td>0.000000</td>\n",
       "      <td>0.000000</td>\n",
       "    </tr>\n",
       "    <tr>\n",
       "      <th>25%</th>\n",
       "      <td>2471.000000</td>\n",
       "      <td>2493.000000</td>\n",
       "      <td>2449.750000</td>\n",
       "    </tr>\n",
       "    <tr>\n",
       "      <th>50%</th>\n",
       "      <td>4945.500000</td>\n",
       "      <td>5026.000000</td>\n",
       "      <td>4985.000000</td>\n",
       "    </tr>\n",
       "    <tr>\n",
       "      <th>75%</th>\n",
       "      <td>7515.250000</td>\n",
       "      <td>7548.000000</td>\n",
       "      <td>7478.000000</td>\n",
       "    </tr>\n",
       "    <tr>\n",
       "      <th>max</th>\n",
       "      <td>10000.000000</td>\n",
       "      <td>10000.000000</td>\n",
       "      <td>10000.000000</td>\n",
       "    </tr>\n",
       "  </tbody>\n",
       "</table>\n",
       "</div>"
      ],
      "text/plain": [
       "       power_turbine1  power_turbine2  power_turbine3\n",
       "count    26572.000000    26576.000000    26632.000000\n",
       "mean      4980.373363     5014.282210     4979.279063\n",
       "std       2901.860165     2898.829275     2896.431480\n",
       "min          0.000000        0.000000        0.000000\n",
       "25%       2471.000000     2493.000000     2449.750000\n",
       "50%       4945.500000     5026.000000     4985.000000\n",
       "75%       7515.250000     7548.000000     7478.000000\n",
       "max      10000.000000    10000.000000    10000.000000"
      ]
     },
     "execution_count": 12,
     "metadata": {},
     "output_type": "execute_result"
    }
   ],
   "source": [
    "data.describe() # Summary of Statistical information of the dataset"
   ]
  },
  {
   "cell_type": "code",
   "execution_count": 13,
   "id": "c17fff3b-9895-4450-9b17-283058f98f0f",
   "metadata": {},
   "outputs": [
    {
     "name": "stdout",
     "output_type": "stream",
     "text": [
      "<class 'pandas.core.frame.DataFrame'>\n",
      "Int64Index: 26632 entries, 0 to 26632\n",
      "Data columns (total 4 columns):\n",
      " #   Column          Non-Null Count  Dtype         \n",
      "---  ------          --------------  -----         \n",
      " 0   time            26602 non-null  datetime64[ns]\n",
      " 1   power_turbine1  26572 non-null  float64       \n",
      " 2   power_turbine2  26576 non-null  float64       \n",
      " 3   power_turbine3  26632 non-null  int64         \n",
      "dtypes: datetime64[ns](1), float64(2), int64(1)\n",
      "memory usage: 2.0 MB\n"
     ]
    }
   ],
   "source": [
    "data.info() # It returns entire description of the dataset"
   ]
  },
  {
   "cell_type": "code",
   "execution_count": 19,
   "id": "386f616d-f6eb-40a8-84dd-7594e36031d2",
   "metadata": {},
   "outputs": [
    {
     "data": {
      "text/plain": [
       "time              0\n",
       "power_turbine1    0\n",
       "power_turbine2    0\n",
       "power_turbine3    0\n",
       "dtype: int64"
      ]
     },
     "execution_count": 19,
     "metadata": {},
     "output_type": "execute_result"
    }
   ],
   "source": [
    "data.isnull().sum() # For removing the null and corrupt values and reshaping the data"
   ]
  },
  {
   "cell_type": "code",
   "execution_count": 20,
   "id": "adf3a881-0b5f-4631-9175-f19750088f2c",
   "metadata": {},
   "outputs": [],
   "source": [
    "data.dropna(how='any',inplace=True)\n",
    "data.reset_index(drop=True,inplace=True) #resetting the index values"
   ]
  },
  {
   "cell_type": "code",
   "execution_count": 17,
   "id": "f47bb83c-a475-46c5-b27b-f4f82610de06",
   "metadata": {
    "scrolled": true
   },
   "outputs": [
    {
     "data": {
      "text/plain": [
       "time              0\n",
       "power_turbine1    0\n",
       "power_turbine2    0\n",
       "power_turbine3    0\n",
       "dtype: int64"
      ]
     },
     "execution_count": 17,
     "metadata": {},
     "output_type": "execute_result"
    }
   ],
   "source": [
    "data.isnull().sum() "
   ]
  },
  {
   "cell_type": "markdown",
   "id": "af49167a-c385-4e1a-8b13-abb11646645e",
   "metadata": {},
   "source": [
    "data.shape"
   ]
  },
  {
   "cell_type": "code",
   "execution_count": 21,
   "id": "6b742657",
   "metadata": {},
   "outputs": [
    {
     "data": {
      "text/plain": [
       "(26486, 4)"
      ]
     },
     "execution_count": 21,
     "metadata": {},
     "output_type": "execute_result"
    }
   ],
   "source": [
    "data.shape"
   ]
  },
  {
   "cell_type": "code",
   "execution_count": 22,
   "id": "ca8c9c3a-1c14-448f-9a52-9337d85123fe",
   "metadata": {},
   "outputs": [],
   "source": [
    "data['Datetime']=pd.to_datetime(data['time'])"
   ]
  },
  {
   "cell_type": "code",
   "execution_count": 23,
   "id": "b0fa07c7-0bbe-41dd-876c-6161aac13d4f",
   "metadata": {},
   "outputs": [],
   "source": [
    "data['Date']=[i.date() for i in data['time']]"
   ]
  },
  {
   "cell_type": "code",
   "execution_count": 24,
   "id": "a0caed9a-00d1-44d3-835c-cb04df8fdcbb",
   "metadata": {},
   "outputs": [
    {
     "data": {
      "text/plain": [
       "array([datetime.date(2020, 1, 1), datetime.date(2020, 1, 2),\n",
       "       datetime.date(2020, 1, 4)], dtype=object)"
      ]
     },
     "execution_count": 24,
     "metadata": {},
     "output_type": "execute_result"
    }
   ],
   "source": [
    "data['Date'].unique() # For removing the repeated data "
   ]
  },
  {
   "cell_type": "code",
   "execution_count": 25,
   "id": "f26b26f5-64f0-4b6b-ae92-cdb2284f6f24",
   "metadata": {},
   "outputs": [
    {
     "data": {
      "text/html": [
       "<div>\n",
       "<style scoped>\n",
       "    .dataframe tbody tr th:only-of-type {\n",
       "        vertical-align: middle;\n",
       "    }\n",
       "\n",
       "    .dataframe tbody tr th {\n",
       "        vertical-align: top;\n",
       "    }\n",
       "\n",
       "    .dataframe thead th {\n",
       "        text-align: right;\n",
       "    }\n",
       "</style>\n",
       "<table border=\"1\" class=\"dataframe\">\n",
       "  <thead>\n",
       "    <tr style=\"text-align: right;\">\n",
       "      <th></th>\n",
       "      <th>time</th>\n",
       "      <th>power_turbine1</th>\n",
       "      <th>power_turbine2</th>\n",
       "      <th>power_turbine3</th>\n",
       "      <th>Datetime</th>\n",
       "      <th>Date</th>\n",
       "    </tr>\n",
       "  </thead>\n",
       "  <tbody>\n",
       "    <tr>\n",
       "      <th>0</th>\n",
       "      <td>2020-01-01 00:01:00</td>\n",
       "      <td>7390.0</td>\n",
       "      <td>1592.0</td>\n",
       "      <td>5751</td>\n",
       "      <td>2020-01-01 00:01:00</td>\n",
       "      <td>2020-01-01</td>\n",
       "    </tr>\n",
       "    <tr>\n",
       "      <th>1</th>\n",
       "      <td>2020-01-01 00:02:00</td>\n",
       "      <td>10000.0</td>\n",
       "      <td>5942.0</td>\n",
       "      <td>649</td>\n",
       "      <td>2020-01-01 00:02:00</td>\n",
       "      <td>2020-01-01</td>\n",
       "    </tr>\n",
       "    <tr>\n",
       "      <th>2</th>\n",
       "      <td>2020-01-01 00:03:00</td>\n",
       "      <td>1116.0</td>\n",
       "      <td>9414.0</td>\n",
       "      <td>4224</td>\n",
       "      <td>2020-01-01 00:03:00</td>\n",
       "      <td>2020-01-01</td>\n",
       "    </tr>\n",
       "    <tr>\n",
       "      <th>3</th>\n",
       "      <td>2020-01-01 00:04:00</td>\n",
       "      <td>3301.0</td>\n",
       "      <td>5291.0</td>\n",
       "      <td>5558</td>\n",
       "      <td>2020-01-01 00:04:00</td>\n",
       "      <td>2020-01-01</td>\n",
       "    </tr>\n",
       "    <tr>\n",
       "      <th>4</th>\n",
       "      <td>2020-01-01 00:05:00</td>\n",
       "      <td>9086.0</td>\n",
       "      <td>3830.0</td>\n",
       "      <td>8564</td>\n",
       "      <td>2020-01-01 00:05:00</td>\n",
       "      <td>2020-01-01</td>\n",
       "    </tr>\n",
       "  </tbody>\n",
       "</table>\n",
       "</div>"
      ],
      "text/plain": [
       "                 time  power_turbine1  power_turbine2  power_turbine3  \\\n",
       "0 2020-01-01 00:01:00          7390.0          1592.0            5751   \n",
       "1 2020-01-01 00:02:00         10000.0          5942.0             649   \n",
       "2 2020-01-01 00:03:00          1116.0          9414.0            4224   \n",
       "3 2020-01-01 00:04:00          3301.0          5291.0            5558   \n",
       "4 2020-01-01 00:05:00          9086.0          3830.0            8564   \n",
       "\n",
       "             Datetime        Date  \n",
       "0 2020-01-01 00:01:00  2020-01-01  \n",
       "1 2020-01-01 00:02:00  2020-01-01  \n",
       "2 2020-01-01 00:03:00  2020-01-01  \n",
       "3 2020-01-01 00:04:00  2020-01-01  \n",
       "4 2020-01-01 00:05:00  2020-01-01  "
      ]
     },
     "execution_count": 25,
     "metadata": {},
     "output_type": "execute_result"
    }
   ],
   "source": [
    "data.head()"
   ]
  },
  {
   "cell_type": "code",
   "execution_count": 26,
   "id": "206721e9-6823-431b-9c12-ca695b96b1f9",
   "metadata": {},
   "outputs": [
    {
     "data": {
      "text/plain": [
       "[<matplotlib.lines.Line2D at 0x26297fda550>]"
      ]
     },
     "execution_count": 26,
     "metadata": {},
     "output_type": "execute_result"
    },
    {
     "data": {
      "image/png": "[encoded data removed]",
      "text/plain": [
       "<Figure size 1440x360 with 1 Axes>"
      ]
     },
     "metadata": {
      "needs_background": "light"
     },
     "output_type": "display_data"
    }
   ],
   "source": [
    "plt.figure(figsize=(20,5))\n",
    "plt.plot(data.time,data.power_turbine1)"
   ]
  },
  {
   "cell_type": "code",
   "execution_count": 27,
   "id": "a59f63af-b5da-4659-acc6-9fbf40ee3197",
   "metadata": {},
   "outputs": [
    {
     "data": {
      "text/html": [
       "<div>\n",
       "<style scoped>\n",
       "    .dataframe tbody tr th:only-of-type {\n",
       "        vertical-align: middle;\n",
       "    }\n",
       "\n",
       "    .dataframe tbody tr th {\n",
       "        vertical-align: top;\n",
       "    }\n",
       "\n",
       "    .dataframe thead th {\n",
       "        text-align: right;\n",
       "    }\n",
       "</style>\n",
       "<table border=\"1\" class=\"dataframe\">\n",
       "  <thead>\n",
       "    <tr style=\"text-align: right;\">\n",
       "      <th></th>\n",
       "      <th>time</th>\n",
       "      <th>power_turbine1</th>\n",
       "      <th>power_turbine2</th>\n",
       "      <th>power_turbine3</th>\n",
       "      <th>Datetime</th>\n",
       "      <th>Date</th>\n",
       "    </tr>\n",
       "  </thead>\n",
       "  <tbody>\n",
       "    <tr>\n",
       "      <th>0</th>\n",
       "      <td>2020-01-01 00:01:00</td>\n",
       "      <td>7390.0</td>\n",
       "      <td>1592.0</td>\n",
       "      <td>5751</td>\n",
       "      <td>2020-01-01 00:01:00</td>\n",
       "      <td>2020-01-01</td>\n",
       "    </tr>\n",
       "    <tr>\n",
       "      <th>11064</th>\n",
       "      <td>2020-01-01 00:01:00</td>\n",
       "      <td>5284.0</td>\n",
       "      <td>984.0</td>\n",
       "      <td>5831</td>\n",
       "      <td>2020-01-01 00:01:00</td>\n",
       "      <td>2020-01-01</td>\n",
       "    </tr>\n",
       "    <tr>\n",
       "      <th>15536</th>\n",
       "      <td>2020-01-01 00:01:00</td>\n",
       "      <td>6569.0</td>\n",
       "      <td>2819.0</td>\n",
       "      <td>7339</td>\n",
       "      <td>2020-01-01 00:01:00</td>\n",
       "      <td>2020-01-01</td>\n",
       "    </tr>\n",
       "    <tr>\n",
       "      <th>8828</th>\n",
       "      <td>2020-01-01 00:01:00</td>\n",
       "      <td>8973.0</td>\n",
       "      <td>4783.0</td>\n",
       "      <td>8282</td>\n",
       "      <td>2020-01-01 00:01:00</td>\n",
       "      <td>2020-01-01</td>\n",
       "    </tr>\n",
       "    <tr>\n",
       "      <th>17772</th>\n",
       "      <td>2020-01-01 00:01:00</td>\n",
       "      <td>7295.0</td>\n",
       "      <td>1766.0</td>\n",
       "      <td>6696</td>\n",
       "      <td>2020-01-01 00:01:00</td>\n",
       "      <td>2020-01-01</td>\n",
       "    </tr>\n",
       "    <tr>\n",
       "      <th>6592</th>\n",
       "      <td>2020-01-01 00:01:00</td>\n",
       "      <td>8317.0</td>\n",
       "      <td>8535.0</td>\n",
       "      <td>2866</td>\n",
       "      <td>2020-01-01 00:01:00</td>\n",
       "      <td>2020-01-01</td>\n",
       "    </tr>\n",
       "    <tr>\n",
       "      <th>20007</th>\n",
       "      <td>2020-01-01 00:01:00</td>\n",
       "      <td>4171.0</td>\n",
       "      <td>8654.0</td>\n",
       "      <td>2973</td>\n",
       "      <td>2020-01-01 00:01:00</td>\n",
       "      <td>2020-01-01</td>\n",
       "    </tr>\n",
       "    <tr>\n",
       "      <th>4356</th>\n",
       "      <td>2020-01-01 00:01:00</td>\n",
       "      <td>8998.0</td>\n",
       "      <td>323.0</td>\n",
       "      <td>5709</td>\n",
       "      <td>2020-01-01 00:01:00</td>\n",
       "      <td>2020-01-01</td>\n",
       "    </tr>\n",
       "    <tr>\n",
       "      <th>22243</th>\n",
       "      <td>2020-01-01 00:01:00</td>\n",
       "      <td>4736.0</td>\n",
       "      <td>5051.0</td>\n",
       "      <td>6251</td>\n",
       "      <td>2020-01-01 00:01:00</td>\n",
       "      <td>2020-01-01</td>\n",
       "    </tr>\n",
       "    <tr>\n",
       "      <th>2120</th>\n",
       "      <td>2020-01-01 00:01:00</td>\n",
       "      <td>5835.0</td>\n",
       "      <td>8737.0</td>\n",
       "      <td>4913</td>\n",
       "      <td>2020-01-01 00:01:00</td>\n",
       "      <td>2020-01-01</td>\n",
       "    </tr>\n",
       "  </tbody>\n",
       "</table>\n",
       "</div>"
      ],
      "text/plain": [
       "                     time  power_turbine1  power_turbine2  power_turbine3  \\\n",
       "0     2020-01-01 00:01:00          7390.0          1592.0            5751   \n",
       "11064 2020-01-01 00:01:00          5284.0           984.0            5831   \n",
       "15536 2020-01-01 00:01:00          6569.0          2819.0            7339   \n",
       "8828  2020-01-01 00:01:00          8973.0          4783.0            8282   \n",
       "17772 2020-01-01 00:01:00          7295.0          1766.0            6696   \n",
       "6592  2020-01-01 00:01:00          8317.0          8535.0            2866   \n",
       "20007 2020-01-01 00:01:00          4171.0          8654.0            2973   \n",
       "4356  2020-01-01 00:01:00          8998.0           323.0            5709   \n",
       "22243 2020-01-01 00:01:00          4736.0          5051.0            6251   \n",
       "2120  2020-01-01 00:01:00          5835.0          8737.0            4913   \n",
       "\n",
       "                 Datetime        Date  \n",
       "0     2020-01-01 00:01:00  2020-01-01  \n",
       "11064 2020-01-01 00:01:00  2020-01-01  \n",
       "15536 2020-01-01 00:01:00  2020-01-01  \n",
       "8828  2020-01-01 00:01:00  2020-01-01  \n",
       "17772 2020-01-01 00:01:00  2020-01-01  \n",
       "6592  2020-01-01 00:01:00  2020-01-01  \n",
       "20007 2020-01-01 00:01:00  2020-01-01  \n",
       "4356  2020-01-01 00:01:00  2020-01-01  \n",
       "22243 2020-01-01 00:01:00  2020-01-01  \n",
       "2120  2020-01-01 00:01:00  2020-01-01  "
      ]
     },
     "execution_count": 27,
     "metadata": {},
     "output_type": "execute_result"
    }
   ],
   "source": [
    "data.sort_values('time').head(10) # For Sorting"
   ]
  },
  {
   "cell_type": "code",
   "execution_count": 28,
   "id": "4f3efce2-c754-4913-8b31-5bbd2ffed202",
   "metadata": {},
   "outputs": [],
   "source": [
    "df=data.drop_duplicates(['time']) # removing the duplicates in time column for data cleaning."
   ]
  },
  {
   "cell_type": "code",
   "execution_count": 29,
   "id": "50f80df1-2aad-4177-9658-e29d441b1700",
   "metadata": {},
   "outputs": [
    {
     "data": {
      "text/plain": [
       "(2496, 6)"
      ]
     },
     "execution_count": 29,
     "metadata": {},
     "output_type": "execute_result"
    }
   ],
   "source": [
    "df.shape"
   ]
  },
  {
   "cell_type": "code",
   "execution_count": 30,
   "id": "d2827914-77a4-4c0c-a4c7-361c9ec3c183",
   "metadata": {},
   "outputs": [
    {
     "name": "stderr",
     "output_type": "stream",
     "text": [
      "<ipython-input-30-6b965c0c19ac>:1: SettingWithCopyWarning: \n",
      "A value is trying to be set on a copy of a slice from a DataFrame\n",
      "\n",
      "See the caveats in the documentation: https://pandas.pydata.org/pandas-docs/stable/user_guide/indexing.html#returning-a-view-versus-a-copy\n",
      "  df.sort_values('time',inplace=True)\n"
     ]
    }
   ],
   "source": [
    "df.sort_values('time',inplace=True)\n",
    "df.reset_index(drop=True,inplace=True)\n"
   ]
  },
  {
   "cell_type": "code",
   "execution_count": null,
   "id": "4204aa7c-e4c5-4082-bd69-a624cb7f8b3b",
   "metadata": {},
   "outputs": [],
   "source": []
  },
  {
   "cell_type": "code",
   "execution_count": 31,
   "id": "dd2a9560-91ec-41f2-b5a6-dde1e2122d7f",
   "metadata": {},
   "outputs": [],
   "source": [
    "new=[] # Converting Time column to Time stamp. It is given in Time stamp \n",
    "for i in range(1,len(df)-1):\n",
    "    diff=(df['time'][i]-df['time'][i-1]).total_seconds()/60\n",
    "    if diff <=2.0:\n",
    "        continue\n",
    "    else:\n",
    "        new.append({'ind':i,'prev_time':df['time'][i-1],'pre_time':df['time'][i],'Diff':diff})"
   ]
  },
  {
   "cell_type": "code",
   "execution_count": 32,
   "id": "d0615039-fe3d-442c-ae6f-908a3b804c2d",
   "metadata": {},
   "outputs": [
    {
     "data": {
      "text/html": [
       "<div>\n",
       "<style scoped>\n",
       "    .dataframe tbody tr th:only-of-type {\n",
       "        vertical-align: middle;\n",
       "    }\n",
       "\n",
       "    .dataframe tbody tr th {\n",
       "        vertical-align: top;\n",
       "    }\n",
       "\n",
       "    .dataframe thead th {\n",
       "        text-align: right;\n",
       "    }\n",
       "</style>\n",
       "<table border=\"1\" class=\"dataframe\">\n",
       "  <thead>\n",
       "    <tr style=\"text-align: right;\">\n",
       "      <th></th>\n",
       "      <th>ind</th>\n",
       "      <th>prev_time</th>\n",
       "      <th>pre_time</th>\n",
       "      <th>Diff</th>\n",
       "    </tr>\n",
       "  </thead>\n",
       "  <tbody>\n",
       "    <tr>\n",
       "      <th>0</th>\n",
       "      <td>2235</td>\n",
       "      <td>2020-01-02 13:15:00</td>\n",
       "      <td>2020-01-04 00:00:00</td>\n",
       "      <td>2085.0</td>\n",
       "    </tr>\n",
       "    <tr>\n",
       "      <th>1</th>\n",
       "      <td>2476</td>\n",
       "      <td>2020-01-04 04:00:00</td>\n",
       "      <td>2020-01-04 04:31:00</td>\n",
       "      <td>31.0</td>\n",
       "    </tr>\n",
       "  </tbody>\n",
       "</table>\n",
       "</div>"
      ],
      "text/plain": [
       "    ind           prev_time            pre_time    Diff\n",
       "0  2235 2020-01-02 13:15:00 2020-01-04 00:00:00  2085.0\n",
       "1  2476 2020-01-04 04:00:00 2020-01-04 04:31:00    31.0"
      ]
     },
     "execution_count": 32,
     "metadata": {},
     "output_type": "execute_result"
    }
   ],
   "source": [
    "pd.DataFrame(new)"
   ]
  },
  {
   "cell_type": "code",
   "execution_count": 33,
   "id": "8e0870c5-0b6c-4758-8955-8dfa55e8615a",
   "metadata": {},
   "outputs": [
    {
     "data": {
      "text/plain": [
       "(26486, 6)"
      ]
     },
     "execution_count": 33,
     "metadata": {},
     "output_type": "execute_result"
    }
   ],
   "source": [
    "data.shape"
   ]
  },
  {
   "cell_type": "code",
   "execution_count": 34,
   "id": "6154ebf4",
   "metadata": {},
   "outputs": [
    {
     "data": {
      "text/plain": [
       "(2496, 6)"
      ]
     },
     "execution_count": 34,
     "metadata": {},
     "output_type": "execute_result"
    }
   ],
   "source": [
    "df.shape"
   ]
  },
  {
   "cell_type": "code",
   "execution_count": 35,
   "id": "43f989b6",
   "metadata": {},
   "outputs": [],
   "source": [
    "new1=[]         # For generating Random Values to fill the missing data.\n",
    "for i in range(1,len(df)-1):\n",
    "    diff=(df['time'][i]-df['time'][i-1]).total_seconds()/60\n",
    "    \n",
    "    if diff <=10.0:\n",
    "        continue\n",
    "    else:\n",
    "        tt_time=df['time'][i-1]\n",
    "        for j in range(0,int(diff)):\n",
    "            tt_time=tt_time+dt.timedelta(minutes = 1)\n",
    "            t1=random.choice(list(df['power_turbine1'][df['power_turbine1'].notna()]))\n",
    "            t2=random.choice(list(df['power_turbine2'][df['power_turbine2'].notna()]))\n",
    "            t3=random.choice(list(df['power_turbine3'][df['power_turbine3'].notna()]))\n",
    "            new1.append({'time':tt_time,'power_turbine1':t1,'power_turbine2':t2,'power_turbine3':t3})\n"
   ]
  },
  {
   "cell_type": "code",
   "execution_count": 36,
   "id": "2eeccd1a",
   "metadata": {},
   "outputs": [],
   "source": [
    "new1=pd.DataFrame(new1)"
   ]
  },
  {
   "cell_type": "code",
   "execution_count": 37,
   "id": "19fdc8fb",
   "metadata": {},
   "outputs": [],
   "source": [
    "df=df[['time','power_turbine1','power_turbine2','power_turbine3']]"
   ]
  },
  {
   "cell_type": "code",
   "execution_count": 38,
   "id": "75008c33",
   "metadata": {},
   "outputs": [
    {
     "data": {
      "text/html": [
       "<div>\n",
       "<style scoped>\n",
       "    .dataframe tbody tr th:only-of-type {\n",
       "        vertical-align: middle;\n",
       "    }\n",
       "\n",
       "    .dataframe tbody tr th {\n",
       "        vertical-align: top;\n",
       "    }\n",
       "\n",
       "    .dataframe thead th {\n",
       "        text-align: right;\n",
       "    }\n",
       "</style>\n",
       "<table border=\"1\" class=\"dataframe\">\n",
       "  <thead>\n",
       "    <tr style=\"text-align: right;\">\n",
       "      <th></th>\n",
       "      <th>time</th>\n",
       "      <th>power_turbine1</th>\n",
       "      <th>power_turbine2</th>\n",
       "      <th>power_turbine3</th>\n",
       "    </tr>\n",
       "  </thead>\n",
       "  <tbody>\n",
       "    <tr>\n",
       "      <th>2111</th>\n",
       "      <td>2020-01-04 04:27:00</td>\n",
       "      <td>8249.0</td>\n",
       "      <td>8526.0</td>\n",
       "      <td>2186</td>\n",
       "    </tr>\n",
       "    <tr>\n",
       "      <th>2112</th>\n",
       "      <td>2020-01-04 04:28:00</td>\n",
       "      <td>1000.0</td>\n",
       "      <td>2742.0</td>\n",
       "      <td>1882</td>\n",
       "    </tr>\n",
       "    <tr>\n",
       "      <th>2113</th>\n",
       "      <td>2020-01-04 04:29:00</td>\n",
       "      <td>6160.0</td>\n",
       "      <td>3743.0</td>\n",
       "      <td>8313</td>\n",
       "    </tr>\n",
       "    <tr>\n",
       "      <th>2114</th>\n",
       "      <td>2020-01-04 04:30:00</td>\n",
       "      <td>2491.0</td>\n",
       "      <td>2328.0</td>\n",
       "      <td>4857</td>\n",
       "    </tr>\n",
       "    <tr>\n",
       "      <th>2115</th>\n",
       "      <td>2020-01-04 04:31:00</td>\n",
       "      <td>3013.0</td>\n",
       "      <td>7948.0</td>\n",
       "      <td>8690</td>\n",
       "    </tr>\n",
       "  </tbody>\n",
       "</table>\n",
       "</div>"
      ],
      "text/plain": [
       "                    time  power_turbine1  power_turbine2  power_turbine3\n",
       "2111 2020-01-04 04:27:00          8249.0          8526.0            2186\n",
       "2112 2020-01-04 04:28:00          1000.0          2742.0            1882\n",
       "2113 2020-01-04 04:29:00          6160.0          3743.0            8313\n",
       "2114 2020-01-04 04:30:00          2491.0          2328.0            4857\n",
       "2115 2020-01-04 04:31:00          3013.0          7948.0            8690"
      ]
     },
     "execution_count": 38,
     "metadata": {},
     "output_type": "execute_result"
    }
   ],
   "source": [
    "new1.tail()"
   ]
  },
  {
   "cell_type": "code",
   "execution_count": 39,
   "id": "a4d0932b",
   "metadata": {},
   "outputs": [],
   "source": [
    "df_data=pd.concat([df,new1])  # Concatinating the generated random data to the original data."
   ]
  },
  {
   "cell_type": "code",
   "execution_count": 40,
   "id": "84674de7",
   "metadata": {},
   "outputs": [],
   "source": [
    "df_data.sort_values('time',inplace=True)"
   ]
  },
  {
   "cell_type": "code",
   "execution_count": 41,
   "id": "6ff513c2",
   "metadata": {},
   "outputs": [],
   "source": [
    "df_data.reset_index(drop=True,inplace=True)"
   ]
  },
  {
   "cell_type": "code",
   "execution_count": 42,
   "id": "f236727f",
   "metadata": {},
   "outputs": [
    {
     "data": {
      "text/html": [
       "<div>\n",
       "<style scoped>\n",
       "    .dataframe tbody tr th:only-of-type {\n",
       "        vertical-align: middle;\n",
       "    }\n",
       "\n",
       "    .dataframe tbody tr th {\n",
       "        vertical-align: top;\n",
       "    }\n",
       "\n",
       "    .dataframe thead th {\n",
       "        text-align: right;\n",
       "    }\n",
       "</style>\n",
       "<table border=\"1\" class=\"dataframe\">\n",
       "  <thead>\n",
       "    <tr style=\"text-align: right;\">\n",
       "      <th></th>\n",
       "      <th>time</th>\n",
       "      <th>power_turbine1</th>\n",
       "      <th>power_turbine2</th>\n",
       "      <th>power_turbine3</th>\n",
       "    </tr>\n",
       "  </thead>\n",
       "  <tbody>\n",
       "    <tr>\n",
       "      <th>0</th>\n",
       "      <td>2020-01-01 00:01:00</td>\n",
       "      <td>7390.0</td>\n",
       "      <td>1592.0</td>\n",
       "      <td>5751</td>\n",
       "    </tr>\n",
       "    <tr>\n",
       "      <th>1</th>\n",
       "      <td>2020-01-01 00:02:00</td>\n",
       "      <td>10000.0</td>\n",
       "      <td>5942.0</td>\n",
       "      <td>649</td>\n",
       "    </tr>\n",
       "    <tr>\n",
       "      <th>2</th>\n",
       "      <td>2020-01-01 00:03:00</td>\n",
       "      <td>1116.0</td>\n",
       "      <td>9414.0</td>\n",
       "      <td>4224</td>\n",
       "    </tr>\n",
       "    <tr>\n",
       "      <th>3</th>\n",
       "      <td>2020-01-01 00:04:00</td>\n",
       "      <td>3301.0</td>\n",
       "      <td>5291.0</td>\n",
       "      <td>5558</td>\n",
       "    </tr>\n",
       "    <tr>\n",
       "      <th>4</th>\n",
       "      <td>2020-01-01 00:05:00</td>\n",
       "      <td>9086.0</td>\n",
       "      <td>3830.0</td>\n",
       "      <td>8564</td>\n",
       "    </tr>\n",
       "    <tr>\n",
       "      <th>...</th>\n",
       "      <td>...</td>\n",
       "      <td>...</td>\n",
       "      <td>...</td>\n",
       "      <td>...</td>\n",
       "    </tr>\n",
       "    <tr>\n",
       "      <th>4607</th>\n",
       "      <td>2020-01-04 04:46:00</td>\n",
       "      <td>9929.0</td>\n",
       "      <td>1949.0</td>\n",
       "      <td>7829</td>\n",
       "    </tr>\n",
       "    <tr>\n",
       "      <th>4608</th>\n",
       "      <td>2020-01-04 04:47:00</td>\n",
       "      <td>4255.0</td>\n",
       "      <td>8588.0</td>\n",
       "      <td>9082</td>\n",
       "    </tr>\n",
       "    <tr>\n",
       "      <th>4609</th>\n",
       "      <td>2020-01-04 04:48:00</td>\n",
       "      <td>5389.0</td>\n",
       "      <td>7854.0</td>\n",
       "      <td>807</td>\n",
       "    </tr>\n",
       "    <tr>\n",
       "      <th>4610</th>\n",
       "      <td>2020-01-04 04:49:00</td>\n",
       "      <td>4666.0</td>\n",
       "      <td>4751.0</td>\n",
       "      <td>9372</td>\n",
       "    </tr>\n",
       "    <tr>\n",
       "      <th>4611</th>\n",
       "      <td>2020-01-04 04:50:00</td>\n",
       "      <td>2427.0</td>\n",
       "      <td>3120.0</td>\n",
       "      <td>226</td>\n",
       "    </tr>\n",
       "  </tbody>\n",
       "</table>\n",
       "<p>4612 rows × 4 columns</p>\n",
       "</div>"
      ],
      "text/plain": [
       "                    time  power_turbine1  power_turbine2  power_turbine3\n",
       "0    2020-01-01 00:01:00          7390.0          1592.0            5751\n",
       "1    2020-01-01 00:02:00         10000.0          5942.0             649\n",
       "2    2020-01-01 00:03:00          1116.0          9414.0            4224\n",
       "3    2020-01-01 00:04:00          3301.0          5291.0            5558\n",
       "4    2020-01-01 00:05:00          9086.0          3830.0            8564\n",
       "...                  ...             ...             ...             ...\n",
       "4607 2020-01-04 04:46:00          9929.0          1949.0            7829\n",
       "4608 2020-01-04 04:47:00          4255.0          8588.0            9082\n",
       "4609 2020-01-04 04:48:00          5389.0          7854.0             807\n",
       "4610 2020-01-04 04:49:00          4666.0          4751.0            9372\n",
       "4611 2020-01-04 04:50:00          2427.0          3120.0             226\n",
       "\n",
       "[4612 rows x 4 columns]"
      ]
     },
     "execution_count": 42,
     "metadata": {},
     "output_type": "execute_result"
    }
   ],
   "source": [
    "df_data"
   ]
  },
  {
   "cell_type": "code",
   "execution_count": 50,
   "id": "b7d6cf63",
   "metadata": {},
   "outputs": [
    {
     "data": {
      "text/plain": [
       "time              0\n",
       "power_turbine1    0\n",
       "power_turbine2    0\n",
       "power_turbine3    0\n",
       "dtype: int64"
      ]
     },
     "execution_count": 50,
     "metadata": {},
     "output_type": "execute_result"
    }
   ],
   "source": [
    "df_data.isnull().sum()"
   ]
  },
  {
   "cell_type": "code",
   "execution_count": 43,
   "id": "5f3baf0d",
   "metadata": {},
   "outputs": [
    {
     "data": {
      "text/plain": [
       "[<matplotlib.lines.Line2D at 0x26297faa850>]"
      ]
     },
     "execution_count": 43,
     "metadata": {},
     "output_type": "execute_result"
    },
    {
     "data": {
      "image/png": "[encoded data removed]",
      "text/plain": [
       "<Figure size 432x288 with 1 Axes>"
      ]
     },
     "metadata": {
      "needs_background": "light"
     },
     "output_type": "display_data"
    }
   ],
   "source": [
    "plt.plot(df_data.time,df_data.power_turbine3) # Plotting the graph."
   ]
  },
  {
   "cell_type": "code",
   "execution_count": 44,
   "id": "fb6cc805",
   "metadata": {},
   "outputs": [],
   "source": [
    "df_data['time']=pd.to_datetime(data['time'])"
   ]
  },
  {
   "cell_type": "code",
   "execution_count": 45,
   "id": "79d03c24",
   "metadata": {},
   "outputs": [
    {
     "data": {
      "text/plain": [
       "<bound method NDFrame.head of                     time  power_turbine1  power_turbine2  power_turbine3\n",
       "0    2020-01-01 00:01:00          7390.0          1592.0            5751\n",
       "1    2020-01-01 00:02:00         10000.0          5942.0             649\n",
       "2    2020-01-01 00:03:00          1116.0          9414.0            4224\n",
       "3    2020-01-01 00:04:00          3301.0          5291.0            5558\n",
       "4    2020-01-01 00:05:00          9086.0          3830.0            8564\n",
       "...                  ...             ...             ...             ...\n",
       "4607 2020-01-01 04:11:00          9929.0          1949.0            7829\n",
       "4608 2020-01-01 04:12:00          4255.0          8588.0            9082\n",
       "4609 2020-01-01 04:13:00          5389.0          7854.0             807\n",
       "4610 2020-01-01 04:14:00          4666.0          4751.0            9372\n",
       "4611 2020-01-01 04:15:00          2427.0          3120.0             226\n",
       "\n",
       "[4612 rows x 4 columns]>"
      ]
     },
     "execution_count": 45,
     "metadata": {},
     "output_type": "execute_result"
    }
   ],
   "source": [
    "df_data.head"
   ]
  },
  {
   "cell_type": "code",
   "execution_count": null,
   "id": "4ccc3267",
   "metadata": {},
   "outputs": [],
   "source": []
  },
  {
   "cell_type": "code",
   "execution_count": 55,
   "id": "7e016b62",
   "metadata": {},
   "outputs": [],
   "source": [
    "df_data.to_excel(r'E:\\DataScienceProject\\Cleaned_turbinepowerdata.xlsx')  #Writing the Cleaned and preprocessed data into the excel file."
   ]
  },
  {
   "cell_type": "code",
   "execution_count": null,
   "id": "5821e66b",
   "metadata": {},
   "outputs": [],
   "source": []
  }
 ],
 "metadata": {
  "kernelspec": {
   "display_name": "Python 3",
   "language": "python",
   "name": "python3"
  },
  "language_info": {
   "codemirror_mode": {
    "name": "ipython",
    "version": 3
   },
   "file_extension": ".py",
   "mimetype": "text/x-python",
   "name": "python",
   "nbconvert_exporter": "python",
   "pygments_lexer": "ipython3",
   "version": "3.8.8"
  }
 },
 "nbformat": 4,
 "nbformat_minor": 5
}
